{
  "cells": [
    {
      "cell_type": "code",
      "execution_count": 69,
      "metadata": {
        "id": "igMyGnjE9hEp"
      },
      "outputs": [],
      "source": [
        "import csv\n",
        "\n",
        "import numpy as np\n",
        "import tensorflow as tf\n",
        "from sklearn.model_selection import train_test_split\n",
        "\n",
        "RANDOM_SEED = 42"
      ]
    },
    {
      "cell_type": "markdown",
      "metadata": {
        "id": "t2HDvhIu9hEr"
      },
      "source": [
        "# Specify each path"
      ]
    },
    {
      "cell_type": "code",
      "execution_count": 70,
      "metadata": {
        "id": "9NvZP2Zn9hEy"
      },
      "outputs": [],
      "source": [
        "dataset = 'model/keypoint_classifier/keypoint.csv'\n",
        "model_save_path = 'model/keypoint_classifier/keypoint_classifier.hdf5'\n",
        "tflite_save_path = 'model/keypoint_classifier/keypoint_classifier.tflite'"
      ]
    },
    {
      "cell_type": "markdown",
      "metadata": {
        "id": "s5oMH7x19hEz"
      },
      "source": [
        "# Set number of classes"
      ]
    },
    {
      "cell_type": "code",
      "execution_count": 71,
      "metadata": {
        "id": "du4kodXL9hEz"
      },
      "outputs": [],
      "source": [
        "NUM_CLASSES = 26"
      ]
    },
    {
      "cell_type": "markdown",
      "metadata": {
        "id": "XjnL0uso9hEz"
      },
      "source": [
        "# Dataset reading"
      ]
    },
    {
      "cell_type": "code",
      "execution_count": 72,
      "metadata": {
        "id": "QT5ZqtEz9hE0"
      },
      "outputs": [],
      "source": [
        "X_dataset = np.loadtxt(dataset, delimiter=',', dtype='float32', usecols=list(range(1, (21 * 2) + 1)))"
      ]
    },
    {
      "cell_type": "code",
      "execution_count": 73,
      "metadata": {
        "id": "QmoKFsp49hE0"
      },
      "outputs": [],
      "source": [
        "y_dataset = np.loadtxt(dataset, delimiter=',', dtype='int32', usecols=(0))"
      ]
    },
    {
      "cell_type": "code",
      "execution_count": 74,
      "metadata": {
        "id": "xQU7JTZ_9hE0"
      },
      "outputs": [],
      "source": [
        "X_train, X_test, y_train, y_test = train_test_split(X_dataset, y_dataset, train_size=0.75, random_state=RANDOM_SEED)"
      ]
    },
    {
      "cell_type": "markdown",
      "metadata": {
        "id": "mxK_lETT9hE0"
      },
      "source": [
        "# Model building"
      ]
    },
    {
      "cell_type": "code",
      "execution_count": 75,
      "metadata": {
        "id": "vHBmUf1t9hE1"
      },
      "outputs": [],
      "source": [
        "model = tf.keras.models.Sequential([\n",
        "    tf.keras.layers.Input((21 * 2, )),\n",
        "    tf.keras.layers.Dropout(0.2),\n",
        "    tf.keras.layers.Dense(20, activation='relu'),\n",
        "    tf.keras.layers.Dropout(0.4),\n",
        "    tf.keras.layers.Dense(10, activation='relu'),\n",
        "    tf.keras.layers.Dense(NUM_CLASSES, activation='softmax')\n",
        "])"
      ]
    },
    {
      "cell_type": "code",
      "execution_count": 76,
      "metadata": {
        "colab": {
          "base_uri": "https://localhost:8080/"
        },
        "id": "ypqky9tc9hE1",
        "outputId": "5db082bb-30e3-4110-bf63-a1ee777ecd46"
      },
      "outputs": [
        {
          "name": "stdout",
          "output_type": "stream",
          "text": [
            "Model: \"sequential_1\"\n",
            "_________________________________________________________________\n",
            " Layer (type)                Output Shape              Param #   \n",
            "=================================================================\n",
            " dropout_2 (Dropout)         (None, 42)                0         \n",
            "                                                                 \n",
            " dense_3 (Dense)             (None, 20)                860       \n",
            "                                                                 \n",
            " dropout_3 (Dropout)         (None, 20)                0         \n",
            "                                                                 \n",
            " dense_4 (Dense)             (None, 10)                210       \n",
            "                                                                 \n",
            " dense_5 (Dense)             (None, 26)                286       \n",
            "                                                                 \n",
            "=================================================================\n",
            "Total params: 1,356\n",
            "Trainable params: 1,356\n",
            "Non-trainable params: 0\n",
            "_________________________________________________________________\n"
          ]
        }
      ],
      "source": [
        "model.summary()  # tf.keras.utils.plot_model(model, show_shapes=True)"
      ]
    },
    {
      "cell_type": "code",
      "execution_count": 77,
      "metadata": {
        "id": "MbMjOflQ9hE1"
      },
      "outputs": [],
      "source": [
        "# Model checkpoint callback\n",
        "cp_callback = tf.keras.callbacks.ModelCheckpoint(\n",
        "    model_save_path, verbose=1, save_weights_only=False)\n",
        "# Callback for early stopping\n",
        "es_callback = tf.keras.callbacks.EarlyStopping(patience=20, verbose=1)"
      ]
    },
    {
      "cell_type": "code",
      "execution_count": 78,
      "metadata": {
        "id": "c3Dac0M_9hE2"
      },
      "outputs": [],
      "source": [
        "# Model compilation\n",
        "model.compile(\n",
        "    optimizer='adam',\n",
        "    loss='sparse_categorical_crossentropy',\n",
        "    metrics=['accuracy']\n",
        ")"
      ]
    },
    {
      "cell_type": "markdown",
      "metadata": {
        "id": "7XI0j1Iu9hE2"
      },
      "source": [
        "# Model training"
      ]
    },
    {
      "cell_type": "code",
      "execution_count": 79,
      "metadata": {
        "colab": {
          "base_uri": "https://localhost:8080/"
        },
        "id": "WirBl-JE9hE3",
        "outputId": "71b30ca2-8294-4d9d-8aa2-800d90d399de",
        "scrolled": true
      },
      "outputs": [
        {
          "name": "stdout",
          "output_type": "stream",
          "text": [
            "Epoch 1/1000\n",
            "123/128 [===========================>..] - ETA: 0s - loss: 3.2176 - accuracy: 0.0669\n",
            "Epoch 1: saving model to model/keypoint_classifier\\keypoint_classifier.hdf5\n",
            "128/128 [==============================] - 1s 5ms/step - loss: 3.2146 - accuracy: 0.0678 - val_loss: 3.0867 - val_accuracy: 0.1274\n",
            "Epoch 2/1000\n",
            "115/128 [=========================>....] - ETA: 0s - loss: 2.9989 - accuracy: 0.1086\n",
            "Epoch 2: saving model to model/keypoint_classifier\\keypoint_classifier.hdf5\n",
            "128/128 [==============================] - 0s 3ms/step - loss: 2.9860 - accuracy: 0.1089 - val_loss: 2.7742 - val_accuracy: 0.1331\n",
            "Epoch 3/1000\n",
            "108/128 [========================>.....] - ETA: 0s - loss: 2.7785 - accuracy: 0.1524\n",
            "Epoch 3: saving model to model/keypoint_classifier\\keypoint_classifier.hdf5\n",
            "128/128 [==============================] - 0s 3ms/step - loss: 2.7652 - accuracy: 0.1550 - val_loss: 2.5116 - val_accuracy: 0.2594\n",
            "Epoch 4/1000\n",
            "110/128 [========================>.....] - ETA: 0s - loss: 2.6053 - accuracy: 0.2022\n",
            "Epoch 4: saving model to model/keypoint_classifier\\keypoint_classifier.hdf5\n",
            "128/128 [==============================] - 0s 3ms/step - loss: 2.5932 - accuracy: 0.2060 - val_loss: 2.2557 - val_accuracy: 0.3241\n",
            "Epoch 5/1000\n",
            "110/128 [========================>.....] - ETA: 0s - loss: 2.4327 - accuracy: 0.2489\n",
            "Epoch 5: saving model to model/keypoint_classifier\\keypoint_classifier.hdf5\n",
            "128/128 [==============================] - 0s 3ms/step - loss: 2.4169 - accuracy: 0.2520 - val_loss: 1.9836 - val_accuracy: 0.5117\n",
            "Epoch 6/1000\n",
            "112/128 [=========================>....] - ETA: 0s - loss: 2.2691 - accuracy: 0.2872\n",
            "Epoch 6: saving model to model/keypoint_classifier\\keypoint_classifier.hdf5\n",
            "128/128 [==============================] - 0s 3ms/step - loss: 2.2633 - accuracy: 0.2889 - val_loss: 1.7776 - val_accuracy: 0.6143\n",
            "Epoch 7/1000\n",
            "111/128 [=========================>....] - ETA: 0s - loss: 2.1786 - accuracy: 0.3055\n",
            "Epoch 7: saving model to model/keypoint_classifier\\keypoint_classifier.hdf5\n",
            "128/128 [==============================] - 0s 3ms/step - loss: 2.1769 - accuracy: 0.3068 - val_loss: 1.6659 - val_accuracy: 0.6130\n",
            "Epoch 8/1000\n",
            "108/128 [========================>.....] - ETA: 0s - loss: 2.0976 - accuracy: 0.3298\n",
            "Epoch 8: saving model to model/keypoint_classifier\\keypoint_classifier.hdf5\n",
            "128/128 [==============================] - 0s 3ms/step - loss: 2.0887 - accuracy: 0.3311 - val_loss: 1.5554 - val_accuracy: 0.6494\n",
            "Epoch 9/1000\n",
            "109/128 [========================>.....] - ETA: 0s - loss: 2.0458 - accuracy: 0.3422\n",
            "Epoch 9: saving model to model/keypoint_classifier\\keypoint_classifier.hdf5\n",
            "128/128 [==============================] - 0s 3ms/step - loss: 2.0452 - accuracy: 0.3421 - val_loss: 1.4934 - val_accuracy: 0.6951\n",
            "Epoch 10/1000\n",
            "114/128 [=========================>....] - ETA: 0s - loss: 2.0035 - accuracy: 0.3531\n",
            "Epoch 10: saving model to model/keypoint_classifier\\keypoint_classifier.hdf5\n",
            "128/128 [==============================] - 0s 3ms/step - loss: 2.0046 - accuracy: 0.3529 - val_loss: 1.4525 - val_accuracy: 0.7096\n",
            "Epoch 11/1000\n",
            "114/128 [=========================>....] - ETA: 0s - loss: 1.9624 - accuracy: 0.3638\n",
            "Epoch 11: saving model to model/keypoint_classifier\\keypoint_classifier.hdf5\n",
            "128/128 [==============================] - 0s 3ms/step - loss: 1.9575 - accuracy: 0.3638 - val_loss: 1.4028 - val_accuracy: 0.7214\n",
            "Epoch 12/1000\n",
            "112/128 [=========================>....] - ETA: 0s - loss: 1.9223 - accuracy: 0.3740\n",
            "Epoch 12: saving model to model/keypoint_classifier\\keypoint_classifier.hdf5\n",
            "128/128 [==============================] - 0s 3ms/step - loss: 1.9209 - accuracy: 0.3737 - val_loss: 1.3845 - val_accuracy: 0.7308\n",
            "Epoch 13/1000\n",
            "112/128 [=========================>....] - ETA: 0s - loss: 1.8862 - accuracy: 0.3807\n",
            "Epoch 13: saving model to model/keypoint_classifier\\keypoint_classifier.hdf5\n",
            "128/128 [==============================] - 0s 3ms/step - loss: 1.8892 - accuracy: 0.3807 - val_loss: 1.3427 - val_accuracy: 0.7129\n",
            "Epoch 14/1000\n",
            "119/128 [==========================>...] - ETA: 0s - loss: 1.8677 - accuracy: 0.3809\n",
            "Epoch 14: saving model to model/keypoint_classifier\\keypoint_classifier.hdf5\n",
            "128/128 [==============================] - 0s 3ms/step - loss: 1.8642 - accuracy: 0.3834 - val_loss: 1.3079 - val_accuracy: 0.7321\n",
            "Epoch 15/1000\n",
            "111/128 [=========================>....] - ETA: 0s - loss: 1.8558 - accuracy: 0.3862\n",
            "Epoch 15: saving model to model/keypoint_classifier\\keypoint_classifier.hdf5\n",
            "128/128 [==============================] - 0s 3ms/step - loss: 1.8540 - accuracy: 0.3868 - val_loss: 1.2904 - val_accuracy: 0.7527\n",
            "Epoch 16/1000\n",
            "114/128 [=========================>....] - ETA: 0s - loss: 1.8173 - accuracy: 0.4019\n",
            "Epoch 16: saving model to model/keypoint_classifier\\keypoint_classifier.hdf5\n",
            "128/128 [==============================] - 0s 3ms/step - loss: 1.8125 - accuracy: 0.4028 - val_loss: 1.2515 - val_accuracy: 0.7529\n",
            "Epoch 17/1000\n",
            "110/128 [========================>.....] - ETA: 0s - loss: 1.7862 - accuracy: 0.4038\n",
            "Epoch 17: saving model to model/keypoint_classifier\\keypoint_classifier.hdf5\n",
            "128/128 [==============================] - 0s 3ms/step - loss: 1.7883 - accuracy: 0.4047 - val_loss: 1.2223 - val_accuracy: 0.7424\n",
            "Epoch 18/1000\n",
            "118/128 [==========================>...] - ETA: 0s - loss: 1.7909 - accuracy: 0.4066\n",
            "Epoch 18: saving model to model/keypoint_classifier\\keypoint_classifier.hdf5\n",
            "128/128 [==============================] - 0s 3ms/step - loss: 1.7887 - accuracy: 0.4079 - val_loss: 1.2085 - val_accuracy: 0.7667\n",
            "Epoch 19/1000\n",
            "110/128 [========================>.....] - ETA: 0s - loss: 1.7670 - accuracy: 0.4152\n",
            "Epoch 19: saving model to model/keypoint_classifier\\keypoint_classifier.hdf5\n",
            "128/128 [==============================] - 0s 3ms/step - loss: 1.7604 - accuracy: 0.4151 - val_loss: 1.1947 - val_accuracy: 0.7783\n",
            "Epoch 20/1000\n",
            "113/128 [=========================>....] - ETA: 0s - loss: 1.7416 - accuracy: 0.4141\n",
            "Epoch 20: saving model to model/keypoint_classifier\\keypoint_classifier.hdf5\n",
            "128/128 [==============================] - 0s 3ms/step - loss: 1.7413 - accuracy: 0.4145 - val_loss: 1.1489 - val_accuracy: 0.7560\n",
            "Epoch 21/1000\n",
            "111/128 [=========================>....] - ETA: 0s - loss: 1.7196 - accuracy: 0.4273\n",
            "Epoch 21: saving model to model/keypoint_classifier\\keypoint_classifier.hdf5\n",
            "128/128 [==============================] - 0s 3ms/step - loss: 1.7192 - accuracy: 0.4281 - val_loss: 1.1344 - val_accuracy: 0.7746\n",
            "Epoch 22/1000\n",
            "111/128 [=========================>....] - ETA: 0s - loss: 1.6967 - accuracy: 0.4318\n",
            "Epoch 22: saving model to model/keypoint_classifier\\keypoint_classifier.hdf5\n",
            "128/128 [==============================] - 0s 3ms/step - loss: 1.7008 - accuracy: 0.4314 - val_loss: 1.1406 - val_accuracy: 0.7433\n",
            "Epoch 23/1000\n",
            "111/128 [=========================>....] - ETA: 0s - loss: 1.6770 - accuracy: 0.4363\n",
            "Epoch 23: saving model to model/keypoint_classifier\\keypoint_classifier.hdf5\n",
            "128/128 [==============================] - 0s 3ms/step - loss: 1.6741 - accuracy: 0.4369 - val_loss: 1.1139 - val_accuracy: 0.7905\n",
            "Epoch 24/1000\n",
            "111/128 [=========================>....] - ETA: 0s - loss: 1.6782 - accuracy: 0.4417\n",
            "Epoch 24: saving model to model/keypoint_classifier\\keypoint_classifier.hdf5\n",
            "128/128 [==============================] - 0s 3ms/step - loss: 1.6797 - accuracy: 0.4413 - val_loss: 1.0981 - val_accuracy: 0.8157\n",
            "Epoch 25/1000\n",
            "110/128 [========================>.....] - ETA: 0s - loss: 1.6535 - accuracy: 0.4475\n",
            "Epoch 25: saving model to model/keypoint_classifier\\keypoint_classifier.hdf5\n",
            "128/128 [==============================] - 0s 3ms/step - loss: 1.6520 - accuracy: 0.4467 - val_loss: 1.0763 - val_accuracy: 0.7932\n",
            "Epoch 26/1000\n",
            "111/128 [=========================>....] - ETA: 0s - loss: 1.6313 - accuracy: 0.4542\n",
            "Epoch 26: saving model to model/keypoint_classifier\\keypoint_classifier.hdf5\n",
            "128/128 [==============================] - 0s 3ms/step - loss: 1.6292 - accuracy: 0.4538 - val_loss: 1.0693 - val_accuracy: 0.7461\n",
            "Epoch 27/1000\n",
            "124/128 [============================>.] - ETA: 0s - loss: 1.6069 - accuracy: 0.4577\n",
            "Epoch 27: saving model to model/keypoint_classifier\\keypoint_classifier.hdf5\n",
            "128/128 [==============================] - 0s 3ms/step - loss: 1.6045 - accuracy: 0.4579 - val_loss: 1.0549 - val_accuracy: 0.7573\n",
            "Epoch 28/1000\n",
            "117/128 [==========================>...] - ETA: 0s - loss: 1.6015 - accuracy: 0.4622\n",
            "Epoch 28: saving model to model/keypoint_classifier\\keypoint_classifier.hdf5\n",
            "128/128 [==============================] - 0s 4ms/step - loss: 1.6058 - accuracy: 0.4611 - val_loss: 1.0386 - val_accuracy: 0.7846\n",
            "Epoch 29/1000\n",
            "123/128 [===========================>..] - ETA: 0s - loss: 1.6063 - accuracy: 0.4601\n",
            "Epoch 29: saving model to model/keypoint_classifier\\keypoint_classifier.hdf5\n",
            "128/128 [==============================] - 0s 3ms/step - loss: 1.6055 - accuracy: 0.4596 - val_loss: 1.0338 - val_accuracy: 0.7984\n",
            "Epoch 30/1000\n",
            "121/128 [===========================>..] - ETA: 0s - loss: 1.5744 - accuracy: 0.4676\n",
            "Epoch 30: saving model to model/keypoint_classifier\\keypoint_classifier.hdf5\n",
            "128/128 [==============================] - 0s 3ms/step - loss: 1.5709 - accuracy: 0.4693 - val_loss: 1.0071 - val_accuracy: 0.7952\n",
            "Epoch 31/1000\n",
            "113/128 [=========================>....] - ETA: 0s - loss: 1.5694 - accuracy: 0.4708\n",
            "Epoch 31: saving model to model/keypoint_classifier\\keypoint_classifier.hdf5\n",
            "128/128 [==============================] - 0s 3ms/step - loss: 1.5693 - accuracy: 0.4714 - val_loss: 1.0182 - val_accuracy: 0.7732\n",
            "Epoch 32/1000\n",
            "124/128 [============================>.] - ETA: 0s - loss: 1.5469 - accuracy: 0.4726\n",
            "Epoch 32: saving model to model/keypoint_classifier\\keypoint_classifier.hdf5\n",
            "128/128 [==============================] - 0s 3ms/step - loss: 1.5466 - accuracy: 0.4725 - val_loss: 0.9990 - val_accuracy: 0.7546\n",
            "Epoch 33/1000\n",
            "107/128 [========================>.....] - ETA: 0s - loss: 1.5389 - accuracy: 0.4821\n",
            "Epoch 33: saving model to model/keypoint_classifier\\keypoint_classifier.hdf5\n",
            "128/128 [==============================] - 0s 3ms/step - loss: 1.5403 - accuracy: 0.4804 - val_loss: 0.9752 - val_accuracy: 0.7866\n",
            "Epoch 34/1000\n",
            "127/128 [============================>.] - ETA: 0s - loss: 1.5422 - accuracy: 0.4807\n",
            "Epoch 34: saving model to model/keypoint_classifier\\keypoint_classifier.hdf5\n",
            "128/128 [==============================] - 0s 3ms/step - loss: 1.5416 - accuracy: 0.4810 - val_loss: 0.9688 - val_accuracy: 0.7871\n",
            "Epoch 35/1000\n",
            "111/128 [=========================>....] - ETA: 0s - loss: 1.5240 - accuracy: 0.4804\n",
            "Epoch 35: saving model to model/keypoint_classifier\\keypoint_classifier.hdf5\n",
            "128/128 [==============================] - 0s 3ms/step - loss: 1.5207 - accuracy: 0.4821 - val_loss: 0.9720 - val_accuracy: 0.7790\n",
            "Epoch 36/1000\n",
            "113/128 [=========================>....] - ETA: 0s - loss: 1.4960 - accuracy: 0.4934\n",
            "Epoch 36: saving model to model/keypoint_classifier\\keypoint_classifier.hdf5\n",
            "128/128 [==============================] - 0s 3ms/step - loss: 1.5017 - accuracy: 0.4920 - val_loss: 0.9656 - val_accuracy: 0.7582\n",
            "Epoch 37/1000\n",
            "113/128 [=========================>....] - ETA: 0s - loss: 1.5079 - accuracy: 0.4885\n",
            "Epoch 37: saving model to model/keypoint_classifier\\keypoint_classifier.hdf5\n",
            "128/128 [==============================] - 0s 3ms/step - loss: 1.5116 - accuracy: 0.4866 - val_loss: 0.9640 - val_accuracy: 0.7792\n",
            "Epoch 38/1000\n",
            "110/128 [========================>.....] - ETA: 0s - loss: 1.4756 - accuracy: 0.5063\n",
            "Epoch 38: saving model to model/keypoint_classifier\\keypoint_classifier.hdf5\n",
            "128/128 [==============================] - 0s 3ms/step - loss: 1.4780 - accuracy: 0.5044 - val_loss: 0.9549 - val_accuracy: 0.7634\n",
            "Epoch 39/1000\n",
            "120/128 [===========================>..] - ETA: 0s - loss: 1.4920 - accuracy: 0.5023\n",
            "Epoch 39: saving model to model/keypoint_classifier\\keypoint_classifier.hdf5\n",
            "128/128 [==============================] - 0s 3ms/step - loss: 1.4922 - accuracy: 0.5027 - val_loss: 0.9624 - val_accuracy: 0.7542\n",
            "Epoch 40/1000\n",
            "111/128 [=========================>....] - ETA: 0s - loss: 1.4779 - accuracy: 0.5009\n",
            "Epoch 40: saving model to model/keypoint_classifier\\keypoint_classifier.hdf5\n",
            "128/128 [==============================] - 0s 3ms/step - loss: 1.4805 - accuracy: 0.5001 - val_loss: 0.9543 - val_accuracy: 0.7846\n",
            "Epoch 41/1000\n",
            "112/128 [=========================>....] - ETA: 0s - loss: 1.4788 - accuracy: 0.5001\n",
            "Epoch 41: saving model to model/keypoint_classifier\\keypoint_classifier.hdf5\n",
            "128/128 [==============================] - 0s 3ms/step - loss: 1.4813 - accuracy: 0.4999 - val_loss: 0.9404 - val_accuracy: 0.7617\n",
            "Epoch 42/1000\n",
            "111/128 [=========================>....] - ETA: 0s - loss: 1.4611 - accuracy: 0.5072\n",
            "Epoch 42: saving model to model/keypoint_classifier\\keypoint_classifier.hdf5\n",
            "128/128 [==============================] - 0s 3ms/step - loss: 1.4618 - accuracy: 0.5066 - val_loss: 0.9282 - val_accuracy: 0.7535\n",
            "Epoch 43/1000\n",
            "123/128 [===========================>..] - ETA: 0s - loss: 1.4496 - accuracy: 0.5089\n",
            "Epoch 43: saving model to model/keypoint_classifier\\keypoint_classifier.hdf5\n",
            "128/128 [==============================] - 0s 3ms/step - loss: 1.4505 - accuracy: 0.5085 - val_loss: 0.9367 - val_accuracy: 0.7448\n",
            "Epoch 44/1000\n",
            "120/128 [===========================>..] - ETA: 0s - loss: 1.4461 - accuracy: 0.5115\n",
            "Epoch 44: saving model to model/keypoint_classifier\\keypoint_classifier.hdf5\n",
            "128/128 [==============================] - 0s 3ms/step - loss: 1.4455 - accuracy: 0.5101 - val_loss: 0.9222 - val_accuracy: 0.7711\n",
            "Epoch 45/1000\n",
            "128/128 [==============================] - ETA: 0s - loss: 1.4441 - accuracy: 0.5161\n",
            "Epoch 45: saving model to model/keypoint_classifier\\keypoint_classifier.hdf5\n",
            "128/128 [==============================] - 0s 3ms/step - loss: 1.4441 - accuracy: 0.5161 - val_loss: 0.9298 - val_accuracy: 0.7555\n",
            "Epoch 46/1000\n",
            "128/128 [==============================] - ETA: 0s - loss: 1.4289 - accuracy: 0.5198\n",
            "Epoch 46: saving model to model/keypoint_classifier\\keypoint_classifier.hdf5\n",
            "128/128 [==============================] - 0s 3ms/step - loss: 1.4289 - accuracy: 0.5198 - val_loss: 0.9198 - val_accuracy: 0.7365\n",
            "Epoch 47/1000\n",
            "107/128 [========================>.....] - ETA: 0s - loss: 1.4307 - accuracy: 0.5199\n",
            "Epoch 47: saving model to model/keypoint_classifier\\keypoint_classifier.hdf5\n",
            "128/128 [==============================] - 0s 3ms/step - loss: 1.4309 - accuracy: 0.5209 - val_loss: 0.8992 - val_accuracy: 0.8039\n",
            "Epoch 48/1000\n",
            "122/128 [===========================>..] - ETA: 0s - loss: 1.4214 - accuracy: 0.5224\n",
            "Epoch 48: saving model to model/keypoint_classifier\\keypoint_classifier.hdf5\n",
            "128/128 [==============================] - 0s 3ms/step - loss: 1.4218 - accuracy: 0.5225 - val_loss: 0.9028 - val_accuracy: 0.7603\n",
            "Epoch 49/1000\n",
            "112/128 [=========================>....] - ETA: 0s - loss: 1.4197 - accuracy: 0.5210\n",
            "Epoch 49: saving model to model/keypoint_classifier\\keypoint_classifier.hdf5\n",
            "128/128 [==============================] - 0s 3ms/step - loss: 1.4172 - accuracy: 0.5238 - val_loss: 0.9211 - val_accuracy: 0.7352\n",
            "Epoch 50/1000\n",
            "125/128 [============================>.] - ETA: 0s - loss: 1.4180 - accuracy: 0.5229\n",
            "Epoch 50: saving model to model/keypoint_classifier\\keypoint_classifier.hdf5\n",
            "128/128 [==============================] - 0s 3ms/step - loss: 1.4183 - accuracy: 0.5223 - val_loss: 0.8942 - val_accuracy: 0.7647\n",
            "Epoch 51/1000\n",
            "108/128 [========================>.....] - ETA: 0s - loss: 1.4054 - accuracy: 0.5340\n",
            "Epoch 51: saving model to model/keypoint_classifier\\keypoint_classifier.hdf5\n",
            "128/128 [==============================] - 0s 3ms/step - loss: 1.4059 - accuracy: 0.5336 - val_loss: 0.8972 - val_accuracy: 0.7616\n",
            "Epoch 52/1000\n",
            "110/128 [========================>.....] - ETA: 0s - loss: 1.4073 - accuracy: 0.5288\n",
            "Epoch 52: saving model to model/keypoint_classifier\\keypoint_classifier.hdf5\n",
            "128/128 [==============================] - 0s 3ms/step - loss: 1.4009 - accuracy: 0.5308 - val_loss: 0.8989 - val_accuracy: 0.7372\n",
            "Epoch 53/1000\n",
            "109/128 [========================>.....] - ETA: 0s - loss: 1.4062 - accuracy: 0.5252\n",
            "Epoch 53: saving model to model/keypoint_classifier\\keypoint_classifier.hdf5\n",
            "128/128 [==============================] - 0s 4ms/step - loss: 1.4106 - accuracy: 0.5253 - val_loss: 0.9166 - val_accuracy: 0.7345\n",
            "Epoch 54/1000\n",
            "122/128 [===========================>..] - ETA: 0s - loss: 1.3888 - accuracy: 0.5346\n",
            "Epoch 54: saving model to model/keypoint_classifier\\keypoint_classifier.hdf5\n",
            "128/128 [==============================] - 0s 3ms/step - loss: 1.3902 - accuracy: 0.5349 - val_loss: 0.8827 - val_accuracy: 0.7555\n",
            "Epoch 55/1000\n",
            "124/128 [============================>.] - ETA: 0s - loss: 1.4042 - accuracy: 0.5349\n",
            "Epoch 55: saving model to model/keypoint_classifier\\keypoint_classifier.hdf5\n",
            "128/128 [==============================] - 0s 3ms/step - loss: 1.4039 - accuracy: 0.5347 - val_loss: 0.9234 - val_accuracy: 0.7198\n",
            "Epoch 56/1000\n",
            "127/128 [============================>.] - ETA: 0s - loss: 1.3949 - accuracy: 0.5320\n",
            "Epoch 56: saving model to model/keypoint_classifier\\keypoint_classifier.hdf5\n",
            "128/128 [==============================] - 0s 3ms/step - loss: 1.3943 - accuracy: 0.5321 - val_loss: 0.9031 - val_accuracy: 0.7290\n",
            "Epoch 57/1000\n",
            "125/128 [============================>.] - ETA: 0s - loss: 1.3934 - accuracy: 0.5299\n",
            "Epoch 57: saving model to model/keypoint_classifier\\keypoint_classifier.hdf5\n",
            "128/128 [==============================] - 0s 3ms/step - loss: 1.3924 - accuracy: 0.5303 - val_loss: 0.9092 - val_accuracy: 0.7155\n",
            "Epoch 58/1000\n",
            "114/128 [=========================>....] - ETA: 0s - loss: 1.3843 - accuracy: 0.5406\n",
            "Epoch 58: saving model to model/keypoint_classifier\\keypoint_classifier.hdf5\n",
            "128/128 [==============================] - 0s 3ms/step - loss: 1.3819 - accuracy: 0.5394 - val_loss: 0.8823 - val_accuracy: 0.7549\n",
            "Epoch 59/1000\n",
            "113/128 [=========================>....] - ETA: 0s - loss: 1.3608 - accuracy: 0.5460\n",
            "Epoch 59: saving model to model/keypoint_classifier\\keypoint_classifier.hdf5\n",
            "128/128 [==============================] - 0s 4ms/step - loss: 1.3666 - accuracy: 0.5435 - val_loss: 0.8955 - val_accuracy: 0.7358\n",
            "Epoch 60/1000\n",
            "107/128 [========================>.....] - ETA: 0s - loss: 1.3710 - accuracy: 0.5443\n",
            "Epoch 60: saving model to model/keypoint_classifier\\keypoint_classifier.hdf5\n",
            "128/128 [==============================] - 0s 4ms/step - loss: 1.3639 - accuracy: 0.5460 - val_loss: 0.8906 - val_accuracy: 0.7295\n",
            "Epoch 61/1000\n",
            "113/128 [=========================>....] - ETA: 0s - loss: 1.3744 - accuracy: 0.5430\n",
            "Epoch 61: saving model to model/keypoint_classifier\\keypoint_classifier.hdf5\n",
            "128/128 [==============================] - 0s 4ms/step - loss: 1.3759 - accuracy: 0.5425 - val_loss: 0.8988 - val_accuracy: 0.7255\n",
            "Epoch 62/1000\n",
            "125/128 [============================>.] - ETA: 0s - loss: 1.3621 - accuracy: 0.5464\n",
            "Epoch 62: saving model to model/keypoint_classifier\\keypoint_classifier.hdf5\n",
            "128/128 [==============================] - 0s 4ms/step - loss: 1.3598 - accuracy: 0.5473 - val_loss: 0.8999 - val_accuracy: 0.7175\n",
            "Epoch 63/1000\n",
            "123/128 [===========================>..] - ETA: 0s - loss: 1.3488 - accuracy: 0.5527\n",
            "Epoch 63: saving model to model/keypoint_classifier\\keypoint_classifier.hdf5\n",
            "128/128 [==============================] - 0s 3ms/step - loss: 1.3505 - accuracy: 0.5521 - val_loss: 0.8970 - val_accuracy: 0.7115\n",
            "Epoch 64/1000\n",
            "122/128 [===========================>..] - ETA: 0s - loss: 1.3478 - accuracy: 0.5504\n",
            "Epoch 64: saving model to model/keypoint_classifier\\keypoint_classifier.hdf5\n",
            "128/128 [==============================] - 0s 3ms/step - loss: 1.3468 - accuracy: 0.5508 - val_loss: 0.8765 - val_accuracy: 0.7203\n",
            "Epoch 65/1000\n",
            "115/128 [=========================>....] - ETA: 0s - loss: 1.3531 - accuracy: 0.5459\n",
            "Epoch 65: saving model to model/keypoint_classifier\\keypoint_classifier.hdf5\n",
            "128/128 [==============================] - 0s 4ms/step - loss: 1.3554 - accuracy: 0.5468 - val_loss: 0.8963 - val_accuracy: 0.7080\n",
            "Epoch 66/1000\n",
            "127/128 [============================>.] - ETA: 0s - loss: 1.3697 - accuracy: 0.5461\n",
            "Epoch 66: saving model to model/keypoint_classifier\\keypoint_classifier.hdf5\n",
            "128/128 [==============================] - 0s 3ms/step - loss: 1.3693 - accuracy: 0.5463 - val_loss: 0.8946 - val_accuracy: 0.7094\n",
            "Epoch 67/1000\n",
            "127/128 [============================>.] - ETA: 0s - loss: 1.3415 - accuracy: 0.5492\n",
            "Epoch 67: saving model to model/keypoint_classifier\\keypoint_classifier.hdf5\n",
            "128/128 [==============================] - 0s 3ms/step - loss: 1.3416 - accuracy: 0.5491 - val_loss: 0.8953 - val_accuracy: 0.7378\n",
            "Epoch 68/1000\n",
            "123/128 [===========================>..] - ETA: 0s - loss: 1.3464 - accuracy: 0.5530\n",
            "Epoch 68: saving model to model/keypoint_classifier\\keypoint_classifier.hdf5\n",
            "128/128 [==============================] - 0s 3ms/step - loss: 1.3436 - accuracy: 0.5549 - val_loss: 0.8939 - val_accuracy: 0.7222\n",
            "Epoch 69/1000\n",
            "123/128 [===========================>..] - ETA: 0s - loss: 1.3390 - accuracy: 0.5553\n",
            "Epoch 69: saving model to model/keypoint_classifier\\keypoint_classifier.hdf5\n",
            "128/128 [==============================] - 0s 3ms/step - loss: 1.3387 - accuracy: 0.5547 - val_loss: 0.8704 - val_accuracy: 0.7312\n",
            "Epoch 70/1000\n",
            "113/128 [=========================>....] - ETA: 0s - loss: 1.3227 - accuracy: 0.5628\n",
            "Epoch 70: saving model to model/keypoint_classifier\\keypoint_classifier.hdf5\n",
            "128/128 [==============================] - 0s 4ms/step - loss: 1.3226 - accuracy: 0.5637 - val_loss: 0.8937 - val_accuracy: 0.7372\n",
            "Epoch 71/1000\n",
            "124/128 [============================>.] - ETA: 0s - loss: 1.3421 - accuracy: 0.5548\n",
            "Epoch 71: saving model to model/keypoint_classifier\\keypoint_classifier.hdf5\n",
            "128/128 [==============================] - 0s 3ms/step - loss: 1.3443 - accuracy: 0.5543 - val_loss: 0.9005 - val_accuracy: 0.7264\n",
            "Epoch 72/1000\n",
            "126/128 [============================>.] - ETA: 0s - loss: 1.3263 - accuracy: 0.5608\n",
            "Epoch 72: saving model to model/keypoint_classifier\\keypoint_classifier.hdf5\n",
            "128/128 [==============================] - 0s 3ms/step - loss: 1.3257 - accuracy: 0.5606 - val_loss: 0.8880 - val_accuracy: 0.7321\n",
            "Epoch 73/1000\n",
            "126/128 [============================>.] - ETA: 0s - loss: 1.3139 - accuracy: 0.5641\n",
            "Epoch 73: saving model to model/keypoint_classifier\\keypoint_classifier.hdf5\n",
            "128/128 [==============================] - 0s 3ms/step - loss: 1.3125 - accuracy: 0.5645 - val_loss: 0.9097 - val_accuracy: 0.7074\n",
            "Epoch 74/1000\n",
            "124/128 [============================>.] - ETA: 0s - loss: 1.3197 - accuracy: 0.5631\n",
            "Epoch 74: saving model to model/keypoint_classifier\\keypoint_classifier.hdf5\n",
            "128/128 [==============================] - 0s 3ms/step - loss: 1.3172 - accuracy: 0.5635 - val_loss: 0.8932 - val_accuracy: 0.7236\n",
            "Epoch 75/1000\n",
            "122/128 [===========================>..] - ETA: 0s - loss: 1.2951 - accuracy: 0.5704\n",
            "Epoch 75: saving model to model/keypoint_classifier\\keypoint_classifier.hdf5\n",
            "128/128 [==============================] - 0s 3ms/step - loss: 1.2933 - accuracy: 0.5706 - val_loss: 0.8961 - val_accuracy: 0.7291\n",
            "Epoch 76/1000\n",
            "124/128 [============================>.] - ETA: 0s - loss: 1.3103 - accuracy: 0.5714\n",
            "Epoch 76: saving model to model/keypoint_classifier\\keypoint_classifier.hdf5\n",
            "128/128 [==============================] - 0s 3ms/step - loss: 1.3100 - accuracy: 0.5719 - val_loss: 0.9175 - val_accuracy: 0.6829\n",
            "Epoch 77/1000\n",
            "125/128 [============================>.] - ETA: 0s - loss: 1.2919 - accuracy: 0.5728\n",
            "Epoch 77: saving model to model/keypoint_classifier\\keypoint_classifier.hdf5\n",
            "128/128 [==============================] - 0s 3ms/step - loss: 1.2902 - accuracy: 0.5736 - val_loss: 0.9269 - val_accuracy: 0.6953\n",
            "Epoch 78/1000\n",
            "126/128 [============================>.] - ETA: 0s - loss: 1.2810 - accuracy: 0.5812\n",
            "Epoch 78: saving model to model/keypoint_classifier\\keypoint_classifier.hdf5\n",
            "128/128 [==============================] - 0s 3ms/step - loss: 1.2830 - accuracy: 0.5810 - val_loss: 0.9045 - val_accuracy: 0.6855\n",
            "Epoch 79/1000\n",
            "108/128 [========================>.....] - ETA: 0s - loss: 1.2830 - accuracy: 0.5792\n",
            "Epoch 79: saving model to model/keypoint_classifier\\keypoint_classifier.hdf5\n",
            "128/128 [==============================] - 0s 3ms/step - loss: 1.2774 - accuracy: 0.5805 - val_loss: 0.9070 - val_accuracy: 0.7043\n",
            "Epoch 80/1000\n",
            "128/128 [==============================] - ETA: 0s - loss: 1.2549 - accuracy: 0.5878\n",
            "Epoch 80: saving model to model/keypoint_classifier\\keypoint_classifier.hdf5\n",
            "128/128 [==============================] - 0s 3ms/step - loss: 1.2549 - accuracy: 0.5878 - val_loss: 0.9162 - val_accuracy: 0.6708\n",
            "Epoch 81/1000\n",
            "108/128 [========================>.....] - ETA: 0s - loss: 1.2674 - accuracy: 0.5879\n",
            "Epoch 81: saving model to model/keypoint_classifier\\keypoint_classifier.hdf5\n",
            "128/128 [==============================] - 0s 3ms/step - loss: 1.2675 - accuracy: 0.5880 - val_loss: 0.9236 - val_accuracy: 0.6866\n",
            "Epoch 82/1000\n",
            "125/128 [============================>.] - ETA: 0s - loss: 1.2681 - accuracy: 0.5866\n",
            "Epoch 82: saving model to model/keypoint_classifier\\keypoint_classifier.hdf5\n",
            "128/128 [==============================] - 0s 3ms/step - loss: 1.2655 - accuracy: 0.5868 - val_loss: 0.9269 - val_accuracy: 0.6862\n",
            "Epoch 83/1000\n",
            "127/128 [============================>.] - ETA: 0s - loss: 1.2770 - accuracy: 0.5821\n",
            "Epoch 83: saving model to model/keypoint_classifier\\keypoint_classifier.hdf5\n",
            "128/128 [==============================] - 0s 3ms/step - loss: 1.2766 - accuracy: 0.5822 - val_loss: 0.9316 - val_accuracy: 0.6697\n",
            "Epoch 84/1000\n",
            "125/128 [============================>.] - ETA: 0s - loss: 1.2468 - accuracy: 0.5966\n",
            "Epoch 84: saving model to model/keypoint_classifier\\keypoint_classifier.hdf5\n",
            "128/128 [==============================] - 0s 3ms/step - loss: 1.2473 - accuracy: 0.5961 - val_loss: 0.9370 - val_accuracy: 0.6726\n",
            "Epoch 85/1000\n",
            "108/128 [========================>.....] - ETA: 0s - loss: 1.2623 - accuracy: 0.5825\n",
            "Epoch 85: saving model to model/keypoint_classifier\\keypoint_classifier.hdf5\n",
            "128/128 [==============================] - 0s 3ms/step - loss: 1.2631 - accuracy: 0.5835 - val_loss: 0.9469 - val_accuracy: 0.6953\n",
            "Epoch 86/1000\n",
            "128/128 [==============================] - ETA: 0s - loss: 1.2481 - accuracy: 0.5961\n",
            "Epoch 86: saving model to model/keypoint_classifier\\keypoint_classifier.hdf5\n",
            "128/128 [==============================] - 0s 3ms/step - loss: 1.2481 - accuracy: 0.5961 - val_loss: 0.9429 - val_accuracy: 0.6859\n",
            "Epoch 87/1000\n",
            "107/128 [========================>.....] - ETA: 0s - loss: 1.2565 - accuracy: 0.5844\n",
            "Epoch 87: saving model to model/keypoint_classifier\\keypoint_classifier.hdf5\n",
            "128/128 [==============================] - 0s 3ms/step - loss: 1.2514 - accuracy: 0.5873 - val_loss: 0.9389 - val_accuracy: 0.7058\n",
            "Epoch 88/1000\n",
            "110/128 [========================>.....] - ETA: 0s - loss: 1.2375 - accuracy: 0.5934\n",
            "Epoch 88: saving model to model/keypoint_classifier\\keypoint_classifier.hdf5\n",
            "128/128 [==============================] - 0s 3ms/step - loss: 1.2417 - accuracy: 0.5916 - val_loss: 0.9397 - val_accuracy: 0.6927\n",
            "Epoch 89/1000\n",
            "108/128 [========================>.....] - ETA: 0s - loss: 1.2450 - accuracy: 0.5974\n",
            "Epoch 89: saving model to model/keypoint_classifier\\keypoint_classifier.hdf5\n",
            "128/128 [==============================] - 0s 3ms/step - loss: 1.2474 - accuracy: 0.5989 - val_loss: 0.9496 - val_accuracy: 0.6853\n",
            "Epoch 89: early stopping\n"
          ]
        },
        {
          "data": {
            "text/plain": [
              "<keras.callbacks.History at 0x1dc92533880>"
            ]
          },
          "execution_count": 79,
          "metadata": {},
          "output_type": "execute_result"
        }
      ],
      "source": [
        "model.fit(\n",
        "    X_train,\n",
        "    y_train,\n",
        "    epochs=1000,\n",
        "    batch_size=128,\n",
        "    validation_data=(X_test, y_test),\n",
        "    callbacks=[cp_callback, es_callback]\n",
        ")"
      ]
    },
    {
      "cell_type": "code",
      "execution_count": 80,
      "metadata": {
        "colab": {
          "base_uri": "https://localhost:8080/"
        },
        "id": "pxvb2Y299hE3",
        "outputId": "59eb3185-2e37-4b9e-bc9d-ab1b8ac29b7f"
      },
      "outputs": [
        {
          "name": "stdout",
          "output_type": "stream",
          "text": [
            "43/43 [==============================] - 0s 2ms/step - loss: 0.9496 - accuracy: 0.6853\n"
          ]
        }
      ],
      "source": [
        "# Model evaluation\n",
        "val_loss, val_acc = model.evaluate(X_test, y_test, batch_size=128)"
      ]
    },
    {
      "cell_type": "code",
      "execution_count": 81,
      "metadata": {
        "id": "RBkmDeUW9hE4"
      },
      "outputs": [],
      "source": [
        "# Loading the saved model\n",
        "model = tf.keras.models.load_model(model_save_path)"
      ]
    },
    {
      "cell_type": "code",
      "execution_count": 82,
      "metadata": {
        "colab": {
          "base_uri": "https://localhost:8080/"
        },
        "id": "tFz9Tb0I9hE4",
        "outputId": "1c3b3528-54ae-4ee2-ab04-77429211cbef"
      },
      "outputs": [
        {
          "name": "stdout",
          "output_type": "stream",
          "text": [
            "1/1 [==============================] - 0s 40ms/step\n",
            "[4.04487662e-02 2.07284756e-06 2.09270525e-04 1.88792372e-04\n",
            " 1.23297488e-02 1.43849029e-05 3.24903976e-06 4.15307341e-06\n",
            " 1.17638804e-01 1.15147752e-10 1.50586423e-08 2.27072887e-05\n",
            " 6.51791766e-02 3.57300550e-01 2.44231371e-04 1.08599297e-05\n",
            " 4.81928915e-08 6.00011444e-05 1.51522815e-01 2.51064986e-01\n",
            " 4.82608069e-04 1.20221239e-06 9.54335405e-07 2.85863574e-03\n",
            " 4.11943562e-04 2.63618194e-09]\n",
            "13\n"
          ]
        }
      ],
      "source": [
        "# Inference test\n",
        "predict_result = model.predict(np.array([X_test[0]]))\n",
        "print(np.squeeze(predict_result))\n",
        "print(np.argmax(np.squeeze(predict_result)))"
      ]
    },
    {
      "cell_type": "markdown",
      "metadata": {
        "id": "S3U4yNWx9hE4"
      },
      "source": [
        "# Confusion matrix"
      ]
    },
    {
      "cell_type": "code",
      "execution_count": 83,
      "metadata": {
        "colab": {
          "base_uri": "https://localhost:8080/",
          "height": 582
        },
        "id": "AP1V6SCk9hE5",
        "outputId": "08e41a80-7a4a-4619-8125-ecc371368d19"
      },
      "outputs": [
        {
          "name": "stdout",
          "output_type": "stream",
          "text": [
            "170/170 [==============================] - 0s 746us/step\n"
          ]
        },
        {
          "data": {
            "image/png": "[encoded data removed]",
            "text/plain": [
              "<Figure size 700x600 with 2 Axes>"
            ]
          },
          "metadata": {},
          "output_type": "display_data"
        },
        {
          "name": "stdout",
          "output_type": "stream",
          "text": [
            "Classification Report\n",
            "              precision    recall  f1-score   support\n",
            "\n",
            "           0       0.83      0.99      0.91       188\n",
            "           1       0.50      1.00      0.67       183\n",
            "           2       1.00      1.00      1.00       206\n",
            "           3       0.59      0.33      0.43       208\n",
            "           4       0.18      0.02      0.03       188\n",
            "           5       1.00      0.47      0.64       206\n",
            "           6       0.52      0.96      0.67       210\n",
            "           7       1.00      0.22      0.36       221\n",
            "           8       0.71      0.98      0.83       424\n",
            "           9       0.99      1.00      1.00       223\n",
            "          10       0.51      0.99      0.67       187\n",
            "          11       0.67      0.98      0.80       213\n",
            "          12       0.50      0.02      0.03       187\n",
            "          13       0.32      0.99      0.48       198\n",
            "          14       0.99      0.87      0.93       195\n",
            "          15       0.95      0.89      0.92       208\n",
            "          16       0.97      0.99      0.98       189\n",
            "          17       0.98      0.22      0.36       212\n",
            "          18       0.17      0.02      0.03       193\n",
            "          19       0.76      0.57      0.65       220\n",
            "          20       0.86      0.82      0.84       214\n",
            "          21       0.51      0.97      0.67       195\n",
            "          22       0.99      0.41      0.58       212\n",
            "          23       0.77      0.10      0.18       197\n",
            "          24       0.98      0.99      0.98       156\n",
            "          25       0.68      0.78      0.72       198\n",
            "\n",
            "    accuracy                           0.69      5431\n",
            "   macro avg       0.73      0.68      0.63      5431\n",
            "weighted avg       0.73      0.69      0.64      5431\n",
            "\n"
          ]
        }
      ],
      "source": [
        "import pandas as pd\n",
        "import seaborn as sns\n",
        "import matplotlib.pyplot as plt\n",
        "from sklearn.metrics import confusion_matrix, classification_report\n",
        "\n",
        "def print_confusion_matrix(y_true, y_pred, report=True):\n",
        "    labels = sorted(list(set(y_true)))\n",
        "    cmx_data = confusion_matrix(y_true, y_pred, labels=labels)\n",
        "    \n",
        "    df_cmx = pd.DataFrame(cmx_data, index=labels, columns=labels)\n",
        " \n",
        "    fig, ax = plt.subplots(figsize=(7, 6))\n",
        "    sns.heatmap(df_cmx, annot=True, fmt='g' ,square=False)\n",
        "    ax.set_ylim(len(set(y_true)), 0)\n",
        "    plt.show()\n",
        "    \n",
        "    if report:\n",
        "        print('Classification Report')\n",
        "        print(classification_report(y_test, y_pred))\n",
        "\n",
        "Y_pred = model.predict(X_test)\n",
        "y_pred = np.argmax(Y_pred, axis=1)\n",
        "\n",
        "print_confusion_matrix(y_test, y_pred)"
      ]
    },
    {
      "cell_type": "markdown",
      "metadata": {
        "id": "FNP6aqzc9hE5"
      },
      "source": [
        "# Convert to model for Tensorflow-Lite"
      ]
    },
    {
      "cell_type": "code",
      "execution_count": 84,
      "metadata": {
        "id": "ODjnYyld9hE6"
      },
      "outputs": [],
      "source": [
        "# Save as a model dedicated to inference\n",
        "model.save(model_save_path, include_optimizer=False)"
      ]
    },
    {
      "cell_type": "code",
      "execution_count": 85,
      "metadata": {
        "colab": {
          "base_uri": "https://localhost:8080/"
        },
        "id": "zRfuK8Y59hE6",
        "outputId": "a4ca585c-b5d5-4244-8291-8674063209bb"
      },
      "outputs": [
        {
          "name": "stdout",
          "output_type": "stream",
          "text": [
            "INFO:tensorflow:Assets written to: C:\\Users\\BIGDIP~1\\AppData\\Local\\Temp\\tmpt3qp5wrs\\assets\n"
          ]
        },
        {
          "name": "stderr",
          "output_type": "stream",
          "text": [
            "INFO:tensorflow:Assets written to: C:\\Users\\BIGDIP~1\\AppData\\Local\\Temp\\tmpt3qp5wrs\\assets\n",
            "WARNING:absl:Buffer deduplication procedure will be skipped when flatbuffer library is not properly loaded\n"
          ]
        },
        {
          "ename": "TypeError",
          "evalue": "Builder.EndVector() missing 1 required positional argument: 'vectorNumElems'",
          "output_type": "error",
          "traceback": [
            "\u001b[1;31m---------------------------------------------------------------------------\u001b[0m",
            "\u001b[1;31mTypeError\u001b[0m                                 Traceback (most recent call last)",
            "Cell \u001b[1;32mIn [85], line 5\u001b[0m\n\u001b[0;32m      3\u001b[0m converter \u001b[39m=\u001b[39m tf\u001b[39m.\u001b[39mlite\u001b[39m.\u001b[39mTFLiteConverter\u001b[39m.\u001b[39mfrom_keras_model(model)\n\u001b[0;32m      4\u001b[0m converter\u001b[39m.\u001b[39moptimizations \u001b[39m=\u001b[39m [tf\u001b[39m.\u001b[39mlite\u001b[39m.\u001b[39mOptimize\u001b[39m.\u001b[39mDEFAULT]\n\u001b[1;32m----> 5\u001b[0m tflite_quantized_model \u001b[39m=\u001b[39m converter\u001b[39m.\u001b[39mconvert()\n\u001b[0;32m      7\u001b[0m \u001b[39mopen\u001b[39m(tflite_save_path, \u001b[39m'\u001b[39m\u001b[39mwb\u001b[39m\u001b[39m'\u001b[39m)\u001b[39m.\u001b[39mwrite(tflite_quantized_model)\n",
            "File \u001b[1;32m~\\AppData\\Roaming\\Python\\Python310\\site-packages\\tensorflow\\lite\\python\\lite.py:930\u001b[0m, in \u001b[0;36m_export_metrics.<locals>.wrapper\u001b[1;34m(self, *args, **kwargs)\u001b[0m\n\u001b[0;32m    927\u001b[0m \u001b[39m@functools\u001b[39m\u001b[39m.\u001b[39mwraps(convert_func)\n\u001b[0;32m    928\u001b[0m \u001b[39mdef\u001b[39;00m \u001b[39mwrapper\u001b[39m(\u001b[39mself\u001b[39m, \u001b[39m*\u001b[39margs, \u001b[39m*\u001b[39m\u001b[39m*\u001b[39mkwargs):\n\u001b[0;32m    929\u001b[0m   \u001b[39m# pylint: disable=protected-access\u001b[39;00m\n\u001b[1;32m--> 930\u001b[0m   \u001b[39mreturn\u001b[39;00m \u001b[39mself\u001b[39m\u001b[39m.\u001b[39m_convert_and_export_metrics(convert_func, \u001b[39m*\u001b[39margs, \u001b[39m*\u001b[39m\u001b[39m*\u001b[39mkwargs)\n",
            "File \u001b[1;32m~\\AppData\\Roaming\\Python\\Python310\\site-packages\\tensorflow\\lite\\python\\lite.py:922\u001b[0m, in \u001b[0;36mTFLiteConverterBase._convert_and_export_metrics\u001b[1;34m(self, convert_func, *args, **kwargs)\u001b[0m\n\u001b[0;32m    920\u001b[0m \u001b[39mself\u001b[39m\u001b[39m.\u001b[39m_metadata\u001b[39m.\u001b[39moptions\u001b[39m.\u001b[39mmodelOptimizationModes\u001b[39m.\u001b[39mextend(sparsity_modes)\n\u001b[0;32m    921\u001b[0m model_object \u001b[39m=\u001b[39m _populate_conversion_metadata(model_object, \u001b[39mself\u001b[39m\u001b[39m.\u001b[39m_metadata)\n\u001b[1;32m--> 922\u001b[0m \u001b[39mreturn\u001b[39;00m flatbuffer_utils\u001b[39m.\u001b[39;49mconvert_object_to_bytearray(model_object)\n",
            "File \u001b[1;32m~\\AppData\\Roaming\\Python\\Python310\\site-packages\\tensorflow\\lite\\tools\\flatbuffer_utils.py:84\u001b[0m, in \u001b[0;36mconvert_object_to_bytearray\u001b[1;34m(model_object)\u001b[0m\n\u001b[0;32m     82\u001b[0m \u001b[39m# Initial size of the buffer, which will grow automatically if needed\u001b[39;00m\n\u001b[0;32m     83\u001b[0m builder \u001b[39m=\u001b[39m flatbuffers\u001b[39m.\u001b[39mBuilder(\u001b[39m1024\u001b[39m)\n\u001b[1;32m---> 84\u001b[0m model_offset \u001b[39m=\u001b[39m model_object\u001b[39m.\u001b[39;49mPack(builder)\n\u001b[0;32m     85\u001b[0m builder\u001b[39m.\u001b[39mFinish(model_offset, file_identifier\u001b[39m=\u001b[39m_TFLITE_FILE_IDENTIFIER)\n\u001b[0;32m     86\u001b[0m model_bytearray \u001b[39m=\u001b[39m \u001b[39mbytes\u001b[39m(builder\u001b[39m.\u001b[39mOutput())\n",
            "File \u001b[1;32m~\\AppData\\Roaming\\Python\\Python310\\site-packages\\tensorflow\\lite\\python\\schema_py_generated.py:11853\u001b[0m, in \u001b[0;36mModelT.Pack\u001b[1;34m(self, builder)\u001b[0m\n\u001b[0;32m  11851\u001b[0m     \u001b[39mfor\u001b[39;00m i \u001b[39min\u001b[39;00m \u001b[39mreversed\u001b[39m(\u001b[39mrange\u001b[39m(\u001b[39mlen\u001b[39m(\u001b[39mself\u001b[39m\u001b[39m.\u001b[39moperatorCodes))):\n\u001b[0;32m  11852\u001b[0m         builder\u001b[39m.\u001b[39mPrependUOffsetTRelative(operatorCodeslist[i])\n\u001b[1;32m> 11853\u001b[0m     operatorCodes \u001b[39m=\u001b[39m builder\u001b[39m.\u001b[39;49mEndVector()\n\u001b[0;32m  11854\u001b[0m \u001b[39mif\u001b[39;00m \u001b[39mself\u001b[39m\u001b[39m.\u001b[39msubgraphs \u001b[39mis\u001b[39;00m \u001b[39mnot\u001b[39;00m \u001b[39mNone\u001b[39;00m:\n\u001b[0;32m  11855\u001b[0m     subgraphslist \u001b[39m=\u001b[39m []\n",
            "\u001b[1;31mTypeError\u001b[0m: Builder.EndVector() missing 1 required positional argument: 'vectorNumElems'"
          ]
        }
      ],
      "source": [
        "# Transform model (quantization)\n",
        "\n",
        "converter = tf.lite.TFLiteConverter.from_keras_model(model)\n",
        "converter.optimizations = [tf.lite.Optimize.DEFAULT]\n",
        "tflite_quantized_model = converter.convert()\n",
        "\n",
        "open(tflite_save_path, 'wb').write(tflite_quantized_model)"
      ]
    },
    {
      "cell_type": "markdown",
      "metadata": {
        "id": "CHBPBXdx9hE6"
      },
      "source": [
        "# Inference test"
      ]
    },
    {
      "cell_type": "code",
      "execution_count": null,
      "metadata": {
        "id": "mGAzLocO9hE7"
      },
      "outputs": [],
      "source": [
        "interpreter = tf.lite.Interpreter(model_path=tflite_save_path)\n",
        "interpreter.allocate_tensors()"
      ]
    },
    {
      "cell_type": "code",
      "execution_count": null,
      "metadata": {
        "id": "oQuDK8YS9hE7"
      },
      "outputs": [],
      "source": [
        "# Get I / O tensor\n",
        "input_details = interpreter.get_input_details()\n",
        "output_details = interpreter.get_output_details()"
      ]
    },
    {
      "cell_type": "code",
      "execution_count": null,
      "metadata": {
        "id": "2_ixAf_l9hE7"
      },
      "outputs": [],
      "source": [
        "interpreter.set_tensor(input_details[0]['index'], np.array([X_test[0]]))"
      ]
    },
    {
      "cell_type": "code",
      "execution_count": null,
      "metadata": {
        "colab": {
          "base_uri": "https://localhost:8080/"
        },
        "id": "s4FoAnuc9hE7",
        "outputId": "91f18257-8d8b-4ef3-c558-e9b5f94fabbf",
        "scrolled": true
      },
      "outputs": [
        {
          "name": "stdout",
          "output_type": "stream",
          "text": [
            "CPU times: user 131 µs, sys: 17 µs, total: 148 µs\n",
            "Wall time: 679 µs\n"
          ]
        }
      ],
      "source": [
        "%%time\n",
        "# Inference implementation\n",
        "interpreter.invoke()\n",
        "tflite_results = interpreter.get_tensor(output_details[0]['index'])"
      ]
    },
    {
      "cell_type": "code",
      "execution_count": null,
      "metadata": {
        "colab": {
          "base_uri": "https://localhost:8080/"
        },
        "id": "vONjp19J9hE8",
        "outputId": "77205e24-fd00-42c4-f7b6-e06e527c2cba"
      },
      "outputs": [
        {
          "name": "stdout",
          "output_type": "stream",
          "text": [
            "[9.8105639e-01 1.8674169e-02 2.2328216e-04 4.6191799e-05]\n",
            "0\n"
          ]
        }
      ],
      "source": [
        "print(np.squeeze(tflite_results))\n",
        "print(np.argmax(np.squeeze(tflite_results)))"
      ]
    }
  ],
  "metadata": {
    "accelerator": "GPU",
    "colab": {
      "collapsed_sections": [],
      "name": "keypoint_classification_EN.ipynb",
      "provenance": [],
      "toc_visible": true
    },
    "kernelspec": {
      "display_name": "Python 3",
      "language": "python",
      "name": "python3"
    },
    "language_info": {
      "codemirror_mode": {
        "name": "ipython",
        "version": 3
      },
      "file_extension": ".py",
      "mimetype": "text/x-python",
      "name": "python",
      "nbconvert_exporter": "python",
      "pygments_lexer": "ipython3",
      "version": "3.10.8 (tags/v3.10.8:aaaf517, Oct 11 2022, 16:50:30) [MSC v.1933 64 bit (AMD64)]"
    },
    "vscode": {
      "interpreter": {
        "hash": "c68c95087a27fd8a35d2c5764983143c6ee9feb53e8aa797068fffe615e8f07e"
      }
    }
  },
  "nbformat": 4,
  "nbformat_minor": 0
}
